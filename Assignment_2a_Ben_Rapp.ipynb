{
 "cells": [
  {
   "cell_type": "markdown",
   "metadata": {},
   "source": [
    "# Assignment 2a Due\n",
    "\n",
    "In this assigment you will explore and become familiar with writing and using algorithms to numerically approxomate definite integrals.\n",
    "\n",
    "Assignment Overview:\n",
    "* Impliment your own midpoint, trapazoid, and Simpson's rule integration algorithms\n",
    "* Use those to solve a definite integral\n",
    "* Compare your algorithms to those from scipy\n",
    "* Compare all approximate solutions to the exact solutions\n"
   ]
  },
  {
   "cell_type": "markdown",
   "metadata": {},
   "source": [
    "You can import only the following packages: numpy, math, scipy, matplotlib.pyplot"
   ]
  },
  {
   "cell_type": "code",
   "execution_count": 89,
   "metadata": {},
   "outputs": [],
   "source": [
    "#your import cell\n",
    "import numpy as np\n",
    "import scipy.integrate as sp\n",
    "import matplotlib.pyplot as plt"
   ]
  },
  {
   "cell_type": "markdown",
   "metadata": {},
   "source": [
    "Now we can define our integration algorithms"
   ]
  },
  {
   "cell_type": "code",
   "execution_count": 90,
   "metadata": {},
   "outputs": [],
   "source": [
    "#define midpoint rule\n",
    "def mid(f, x0, xn, n): #Borrowed from integration lecture notes\n",
    "    dx = (xn-x0)/float(n)\n",
    "    a = dx*np.sum([f(x0 + (i+0.5)*dx) for i in range (0,n)])\n",
    "    return a\n"
   ]
  },
  {
   "cell_type": "code",
   "execution_count": 91,
   "metadata": {},
   "outputs": [],
   "source": [
    "#define trapazoidal rule\n",
    "def trap(f, x0, xn, n): #Borrowed from integration lecture notes\n",
    "    dx = (xn-x0)/float(n)\n",
    "    a = dx*np.sum([0.5*(f(x0 +i*dx) + f(x0 + (i+1)*dx)) for i in range (0,n)])\n",
    "    return a\n"
   ]
  },
  {
   "cell_type": "code",
   "execution_count": 92,
   "metadata": {},
   "outputs": [],
   "source": [
    "#define simpson's rule\n",
    "def simp(f,x0,xn,n): #Borrowed from integration lecture notes\n",
    "    dx = (xn-x0)/float(n)\n",
    "    s_odd = 0\n",
    "    s_even = 0\n",
    "    for i in range (1,n,2):\n",
    "        s_odd += 4*f(x0 + i*dx) \n",
    "    for j in range (2,n-1,2):\n",
    "        s_even += 2*f(x0 + j*dx) \n",
    "    area = (dx/3.0)*(f(x0) + s_even + s_odd + f(xn))\n",
    "    return area"
   ]
  },
  {
   "cell_type": "markdown",
   "metadata": {},
   "source": [
    "# Question \n",
    "Sanity checking your code is very important. How can you check that your functions are working properly?"
   ]
  },
  {
   "cell_type": "markdown",
   "metadata": {},
   "source": [
    "## Answer: \n",
    "\n",
    "You can check that your functions are running properly by writing python unit test scripts which run test cases against your algorithm. Since these are all relatively simple, it might be best to just compare their asymptotic runtimes in a table or with a graph and make sure that they perform in polynomial time worst case"
   ]
  },
  {
   "cell_type": "markdown",
   "metadata": {},
   "source": []
  },
  {
   "cell_type": "markdown",
   "metadata": {},
   "source": [
    "For this notebook assigment we would like to solve the integral\\\n",
    "$\\int_{a}^{b} \\frac{2}{(2^2 + x^2)^{3/2}}dx$"
   ]
  },
  {
   "cell_type": "markdown",
   "metadata": {},
   "source": [
    "# Question\n",
    "Have you seen an integral like this before in physics? From where?"
   ]
  },
  {
   "cell_type": "markdown",
   "metadata": {},
   "source": [
    "## Answer: \n",
    "\n",
    "I can't remember exactly what it is but I recognize integrals of that form from calculating electric fields at a point some distance away from a charged object"
   ]
  },
  {
   "cell_type": "markdown",
   "metadata": {},
   "source": []
  },
  {
   "cell_type": "markdown",
   "metadata": {},
   "source": [
    "Solve the above integral using the numerical integrations that you wrote. When defining the function we will integrate over do so using python's **lambda** function.\n",
    "\n",
    "For the integration take $a = 0,\\; b = 2,\\;$ and we will split it up into 6 partitions."
   ]
  },
  {
   "cell_type": "markdown",
   "metadata": {},
   "source": [
    "# Question\n",
    "What is the exact solution?"
   ]
  },
  {
   "cell_type": "code",
   "execution_count": 93,
   "metadata": {},
   "outputs": [],
   "source": [
    "#exact solution to the integral\n",
    "exact_solution = 0.3536 #Taken from WolframAlpha"
   ]
  },
  {
   "cell_type": "code",
   "execution_count": 94,
   "metadata": {},
   "outputs": [
    {
     "name": "stdout",
     "output_type": "stream",
     "text": [
      "Midpoint Approximation: 0.3538599754585315\n",
      "Trapezoid Approximation: 0.35293994641413146\n",
      "Simpson Approximation: 0.3535517906244493\n"
     ]
    }
   ],
   "source": [
    "#solve the integral using your integration functions\n",
    "f = lambda x: 2 / ((4 + x**2)**1.5)\n",
    "\n",
    "midpoint = mid(f, 0, 2, 6)\n",
    "trapezoid = trap(f, 0, 2, 6)\n",
    "simpson = simp(f, 0, 2, 6)\n",
    "\n",
    "print(\"Midpoint Approximation: \" + str(midpoint))\n",
    "print(\"Trapezoid Approximation: \" + str(trapezoid))\n",
    "print(\"Simpson Approximation: \" + str(simpson))"
   ]
  },
  {
   "cell_type": "markdown",
   "metadata": {},
   "source": [
    "Use the trapz and simps methods from scipy's integration library to solve the integral.\n",
    "\n",
    "Note: Shit+tab at the end of a function in jupyter notebook reveals lots of information about the function."
   ]
  },
  {
   "cell_type": "code",
   "execution_count": 95,
   "metadata": {},
   "outputs": [],
   "source": [
    "#scipy integration\n",
    "dx = 2/6\n",
    "n = np.arange(0, 2, dx)\n",
    "sample = [f(x) for x in n]\n",
    "\n",
    "simps = sp.simps(sample, n, dx)\n",
    "trapz = sp.trapz(sample, n, dx)"
   ]
  },
  {
   "cell_type": "markdown",
   "metadata": {},
   "source": [
    "# Question\n",
    "How do scipy integrals compare to yours? Support your answer. "
   ]
  },
  {
   "cell_type": "markdown",
   "metadata": {},
   "source": []
  },
  {
   "cell_type": "code",
   "execution_count": 96,
   "metadata": {},
   "outputs": [
    {
     "name": "stdout",
     "output_type": "stream",
     "text": [
      "Simpson: 0.31989004123392856\n",
      "Trapezoid: 0.31931786793619754\n"
     ]
    }
   ],
   "source": [
    "#print the numerical values\n",
    "print(\"Simpson: \" + str(simps))\n",
    "print(\"Trapezoid: \" + str(trapz))"
   ]
  },
  {
   "cell_type": "markdown",
   "metadata": {},
   "source": [
    "Numerically compare your midpoint, trapazoid, and Simpson method results to the exact value by calculating the quantity (approx - exact) / exact for each method. "
   ]
  },
  {
   "cell_type": "code",
   "execution_count": 97,
   "metadata": {},
   "outputs": [
    {
     "name": "stdout",
     "output_type": "stream",
     "text": [
      "My Midpoint\n",
      "Approximation: 0.3538599754585315\n",
      "Error: 0.07352247130414548\n",
      "\n",
      "My Trapezoid\n",
      "Approximation: 0.35293994641413146\n",
      "Error: 0.1866667380850027\n",
      "\n",
      "My Simpson\n",
      "Approximation: 0.3535517906244493\n",
      "Error: 0.01363387317610942\n",
      "\n",
      "SciPy Simpson\n",
      "Approximation: 0.31989004123392856\n",
      "Error: 9.533359379545098\n",
      "\n",
      "SciPy Trapezoid\n",
      "Approximation: 0.31931786793619754\n",
      "Error: 9.695173094966766\n",
      "\n"
     ]
    }
   ],
   "source": [
    "#numerical comparisons\n",
    "def errorCalc(approx, exact):\n",
    "    return (abs(approx-exact)/exact)*100\n",
    "\n",
    "funcs = [(\"My Midpoint\", midpoint), (\"My Trapezoid\",trapezoid), (\"My Simpson\",simpson), (\"SciPy Simpson\",simps), (\"SciPy Trapezoid\",trapz)]\n",
    "\n",
    "for func in funcs:\n",
    "    print(str(func[0]))\n",
    "    print(\"Approximation: \" + str(func[1]))\n",
    "    print(\"Error: \" + str(errorCalc(func[1], exact_solution)))\n",
    "    print()"
   ]
  },
  {
   "cell_type": "markdown",
   "metadata": {},
   "source": [
    "# Question\n",
    "Which method provides the best approximation to the exact solution?"
   ]
  },
  {
   "cell_type": "markdown",
   "metadata": {},
   "source": []
  },
  {
   "cell_type": "markdown",
   "metadata": {},
   "source": [
    "It is often useful to represent the data graphically. Make a scatter plot showing the percent difference $100 \\times \\frac{approx. - exact}{exact}$ vs. integration method. Integration method on your x-axis should be strings such as *midpoint, trapazoid, and Simpson*. You should also draw on your plot a line at *y = 0*, which will help guide the eye where the perfect approximation (the exact solution) would sit. "
   ]
  },
  {
   "cell_type": "code",
   "execution_count": 98,
   "metadata": {},
   "outputs": [
    {
     "data": {
      "image/png": "[encoded data removed]",
      "text/plain": [
       "<Figure size 432x288 with 1 Axes>"
      ]
     },
     "metadata": {},
     "output_type": "display_data"
    }
   ],
   "source": [
    "#plot\n",
    "x = [func[0] for func in funcs]\n",
    "y = [errorCalc(func[1], exact_solution) for func in funcs]\n",
    "\n",
    "plt.scatter(x, y)\n",
    "plt.ylabel(\"% Error\")\n",
    "plt.show()"
   ]
  },
  {
   "cell_type": "markdown",
   "metadata": {},
   "source": [
    "Using the scipy *quad* integration method, approximate the following integral\n",
    "\n",
    "$$\\int_{-\\infty}^{\\infty} e^{-x^{2}} dx$$\n",
    "\n",
    "Hint: Reference <a href=\"https://numpy.org/\">numpy</a> and see what it has to offer in terms of functions and *special* values"
   ]
  },
  {
   "cell_type": "code",
   "execution_count": 99,
   "metadata": {},
   "outputs": [],
   "source": [
    "#solve integral above\n",
    "f = lambda r : np.e**(-r**2)\n",
    "\n",
    "quad = sp.quad(f, -np.inf, np.inf)"
   ]
  },
  {
   "cell_type": "markdown",
   "metadata": {},
   "source": [
    "# Question\n",
    "If you square your solution, does the resulting number have any special meaning?"
   ]
  },
  {
   "cell_type": "code",
   "execution_count": 100,
   "metadata": {},
   "outputs": [
    {
     "data": {
      "text/plain": [
       "3.1415926535897936"
      ]
     },
     "execution_count": 100,
     "metadata": {},
     "output_type": "execute_result"
    }
   ],
   "source": [
    "quad_sqr = quad[0]**2\n",
    "quad_sqr\n",
    "\n",
    "# It's Pi!"
   ]
  },
  {
   "cell_type": "markdown",
   "metadata": {},
   "source": []
  }
 ],
 "metadata": {
  "kernelspec": {
   "display_name": "Python 3",
   "language": "python",
   "name": "python3"
  },
  "language_info": {
   "codemirror_mode": {
    "name": "ipython",
    "version": 3
   },
   "file_extension": ".py",
   "mimetype": "text/x-python",
   "name": "python",
   "nbconvert_exporter": "python",
   "pygments_lexer": "ipython3",
   "version": "3.8.0"
  }
 },
 "nbformat": 4,
 "nbformat_minor": 4
}
